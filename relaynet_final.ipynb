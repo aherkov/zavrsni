{
  "nbformat": 4,
  "nbformat_minor": 0,
  "metadata": {
    "kernelspec": {
      "name": "python3",
      "display_name": "Python 3"
    },
    "language_info": {
      "codemirror_mode": {
        "name": "ipython",
        "version": 3
      },
      "file_extension": ".py",
      "mimetype": "text/x-python",
      "name": "python",
      "nbconvert_exporter": "python",
      "pygments_lexer": "ipython3",
      "version": "3.7.6"
    },
    "colab": {
      "name": "relaynet_final.ipynb",
      "provenance": [],
      "collapsed_sections": [
        "i2X0H8qgk9hJ",
        "yegarL3Ok9hW"
      ],
      "toc_visible": true
    },
    "accelerator": "GPU"
  },
  "cells": [
    {
      "cell_type": "markdown",
      "metadata": {
        "id": "0wCNd6Qwk9ga",
        "colab_type": "text"
      },
      "source": [
        "## Train ReLayNet\n",
        "RunFile of OCT segmentation"
      ]
    },
    {
      "cell_type": "code",
      "metadata": {
        "id": "eceP3HTplmI0",
        "colab_type": "code",
        "colab": {}
      },
      "source": [
        "from google.colab import drive\n",
        "drive.mount('/content/drive')"
      ],
      "execution_count": null,
      "outputs": []
    },
    {
      "cell_type": "code",
      "metadata": {
        "id": "E3oIok3EMWkf",
        "colab_type": "code",
        "colab": {}
      },
      "source": [
        "!pip install transformations\n",
        "!pip install typing-extensions==3.7.4\n",
        "!pip install comet_ml==3.1.8"
      ],
      "execution_count": null,
      "outputs": []
    },
    {
      "cell_type": "code",
      "metadata": {
        "id": "3-Cv0r_EIwZp",
        "colab_type": "code",
        "colab": {}
      },
      "source": [
        "!pip install typing-extensions==3.6.6"
      ],
      "execution_count": null,
      "outputs": []
    },
    {
      "cell_type": "code",
      "metadata": {
        "id": "GTzXOf_OIrG0",
        "colab_type": "code",
        "colab": {}
      },
      "source": [
        "!pip install comet_ml"
      ],
      "execution_count": null,
      "outputs": []
    },
    {
      "cell_type": "code",
      "metadata": {
        "id": "6e6sIkCXRWKG",
        "colab_type": "code",
        "colab": {}
      },
      "source": [
        "from comet_ml import Experiment"
      ],
      "execution_count": null,
      "outputs": []
    },
    {
      "cell_type": "code",
      "metadata": {
        "id": "_xb_m2J8lOiI",
        "colab_type": "code",
        "colab": {}
      },
      "source": [
        "import numpy as np\n",
        "import matplotlib.pyplot as plt\n",
        "import torch\n",
        "from torch.autograd import Variable"
      ],
      "execution_count": null,
      "outputs": []
    },
    {
      "cell_type": "code",
      "metadata": {
        "pycharm": {
          "is_executing": false
        },
        "id": "ora3fYEFk9gh",
        "colab_type": "code",
        "colab": {}
      },
      "source": [
        "from relaynet_pytorch.relay_net import ReLayNet\n",
        "\n",
        "%matplotlib inline\n",
        "plt.rcParams['figure.figsize'] = (10.0, 8.0) # set default size of plots\n",
        "plt.rcParams['image.interpolation'] = 'nearest'\n",
        "plt.rcParams['image.cmap'] = 'gray'\n",
        "\n",
        "# for auto-reloading external modules\n",
        "# see http://stackoverflow.com/questions/1907993/autoreload-of-modules-in-ipython\n",
        "%load_ext autoreload\n",
        "%autoreload 2"
      ],
      "execution_count": null,
      "outputs": []
    },
    {
      "cell_type": "code",
      "metadata": {
        "id": "_nivqt7eV3W_",
        "colab_type": "code",
        "colab": {}
      },
      "source": [
        "import glob\n",
        "from pathlib import Path\n",
        "from torch.utils.data import Dataset\n",
        "import cv2\n",
        "import numpy\n",
        "from PIL import Image\n",
        "#import transformations\n",
        "from copy import deepcopy\n",
        "#from torchvision import transforms\n",
        "#import torchvision.transforms.functional as F\n",
        "import random\n",
        "\n",
        "class VData(Dataset):\n",
        "    def __init__(self, parovi, mode):\n",
        "        self.parovi = parovi\n",
        "        self.mode = mode\n",
        "\n",
        "    def custom_transform(self, og, mask, weights):\n",
        "        height = 1024\n",
        "        width = 512\n",
        "        degrees, translate, scale_ranges, shears = transforms.RandomAffine.get_params((-10, 10), (-0.2, 0.2), None, None, (height, width))\n",
        "        og = F.affine(og, degrees, translate, scale_ranges, shears)\n",
        "        mask = F.affine(mask, degrees, translate, scale_ranges, shears)\n",
        "        weights = F.affine(weights, degrees, translate, scale_ranges, shears)\n",
        "        if random.random() > 0.5:\n",
        "            og = F.hflip(og)\n",
        "            mask = F.hflip(mask)\n",
        "            weights = F.hflip(weights)\n",
        "        return og, mask, weights\n",
        "\n",
        "    def __getitem__(self, index):\n",
        "        mask_img_rgb = Image.open(self.parovi[index][1])\n",
        "        mask_img_grayscale = mask_img_rgb.convert('L')\n",
        "        og_img_bgr = Image.open(self.parovi[index][0])\n",
        "        og_img_gray = og_img_bgr.convert('L')\n",
        "        if len(self.parovi[index]) == 3:\n",
        "            weight_img_rgb = Image.open(self.parovi[index][2])\n",
        "            weight_img_grayscale = weight_img_rgb.convert('L')\n",
        "\n",
        "        #if self.mode == \"train\":\n",
        "        #    og_img_gray, mask_img_grayscale, weight_img_grayscale = self.custom_transform(og_img_gray, mask_img_grayscale, weight_img_grayscale)\n",
        "        mask_img = numpy.asarray(mask_img_grayscale)\n",
        "        mask_img_normalized = mask_img.copy()\n",
        "        numpy.place(mask_img_normalized, mask_img_normalized == 64, 1)\n",
        "        numpy.place(mask_img_normalized, mask_img_normalized == 128, 2)\n",
        "        numpy.place(mask_img_normalized, mask_img_normalized == 192, 3)\n",
        "                    \n",
        "        # og_img_bgr = cv2.imread(self.parovi[index][0])\n",
        "        # og_img_gray = cv2.cvtColor(og_img_bgr, cv2.COLOR_BGR2GRAY)\n",
        "        og_img_gray = numpy.asarray(og_img_gray)\n",
        "        og_img_gray_max = numpy.max(og_img_gray[:])\n",
        "        og_img_gray_min = numpy.min(og_img_gray[:])\n",
        "        og_img_normalized = (og_img_gray - og_img_gray_min) / (og_img_gray_max - og_img_gray_min)\n",
        "        og_img_normalized = numpy.expand_dims(og_img_normalized, axis=0)\n",
        "\n",
        "        mask_img_normalized = mask_img_normalized.astype(numpy.float32)\n",
        "        og_img_normalized = og_img_normalized.astype(numpy.float32)\n",
        "\n",
        "        if len(self.parovi[index]) == 3:\n",
        "            # weight_img_rgb = Image.open(self.parovi[index][2])\n",
        "            # weight_img_grayscale = weight_img_rgb.convert('L')\n",
        "            weight_img = numpy.asarray(weight_img_grayscale)\n",
        "            weight_img_copy = weight_img.copy()\n",
        "            weight_img_copy = weight_img_copy.astype(numpy.float32)\n",
        "            numpy.place(weight_img_copy, weight_img_copy == 0, 1) # 1\n",
        "            numpy.place(weight_img_copy, weight_img_copy == 100, 8) # 6\n",
        "            numpy.place(weight_img_copy, weight_img_copy == 200, 15) # 11\n",
        "            return og_img_normalized, mask_img_normalized, weight_img_copy\n",
        "\n",
        "        return og_img_normalized, mask_img_normalized\n",
        "\n",
        "    def __len__(self):\n",
        "        return len(self.parovi)\n",
        "\n",
        "\n",
        "def get_datasets():\n",
        "    train_masks = glob.glob(\"/content/drive/My Drive/pacijenti_dataset_weights/train/*/mask/*\")\n",
        "    train_ogs = glob.glob(\"/content/drive/My Drive/pacijenti_dataset_weights/train/*/original/*\")\n",
        "    val_masks = glob.glob(\"/content/drive/My Drive/pacijenti_dataset_weights/val/*/mask/*\")\n",
        "    val_ogs = glob.glob(\"/content/drive/My Drive/pacijenti_dataset_weights/val/*/original/*\")\n",
        "    test_masks = glob.glob(\"/content/drive/My Drive/pacijenti_dataset_weights/test/*/mask/*\")\n",
        "    test_ogs = glob.glob(\"/content/drive/My Drive/pacijenti_dataset_weights/test/*/original/*\")\n",
        "    weights = glob.glob(\"/content/drive/My Drive/pacijenti_dataset_weights/train/*/weight/*\")\n",
        "\n",
        "    train_dataset = []\n",
        "    val_dataset = []\n",
        "    test_dataset = []\n",
        "\n",
        "    train_masks_copy = deepcopy(train_masks)\n",
        "    for mask_path in train_masks_copy:\n",
        "        mask_path_copy = deepcopy(mask_path)\n",
        "        original_path = mask_path_copy.replace(\"mask\", \"original\")\n",
        "        weight_path = mask_path_copy.replace(\"mask\", \"weight\")\n",
        "        weight_path = weight_path.replace(\".tif\", \"_weights.tif\")\n",
        "        train_dataset.append([original_path, mask_path_copy, weight_path])\n",
        "\n",
        "    for mask_path in val_masks:\n",
        "        original_path = mask_path.replace(\"mask\", \"original\")\n",
        "        val_dataset.append([original_path, mask_path])\n",
        "\n",
        "    for mask_path in test_masks:\n",
        "        original_path = mask_path.replace(\"mask\", \"original\")\n",
        "        test_dataset.append([original_path, mask_path])\n",
        "\n",
        "    return VData(train_dataset, mode=\"train\"), VData(val_dataset, mode=\"val\"), VData(test_dataset, mode=\"test\")\n"
      ],
      "execution_count": null,
      "outputs": []
    },
    {
      "cell_type": "code",
      "metadata": {
        "pycharm": {
          "is_executing": false
        },
        "id": "W2IudZwXk9gz",
        "colab_type": "code",
        "colab": {
          "base_uri": "https://localhost:8080/",
          "height": 69
        },
        "outputId": "285fc1a5-0cf9-4309-8468-119e8b131f6d"
      },
      "source": [
        "train_data, val_data, test_data = get_datasets()\n",
        "print(\"Train size: %i\" % len(train_data))\n",
        "print(\"Val size: %i\" % len(val_data))\n",
        "print(\"Test size: %i\" % len(test_data))"
      ],
      "execution_count": null,
      "outputs": [
        {
          "output_type": "stream",
          "text": [
            "Train size: 1118\n",
            "Val size: 251\n",
            "Test size: 61\n"
          ],
          "name": "stdout"
        }
      ]
    },
    {
      "cell_type": "code",
      "metadata": {
        "id": "h8uLifdPj3NF",
        "colab_type": "code",
        "colab": {}
      },
      "source": [
        "torch.cuda.is_available()"
      ],
      "execution_count": null,
      "outputs": []
    },
    {
      "cell_type": "code",
      "metadata": {
        "scrolled": false,
        "id": "SDHEQejlk9g_",
        "colab_type": "code",
        "colab": {}
      },
      "source": [
        "from relaynet_pytorch.relay_net import ReLayNet\n",
        "from relaynet_pytorch.solver import Solver\n",
        "\n",
        "train_loader = torch.utils.data.DataLoader(train_data, batch_size=1, shuffle=True, num_workers=4)\n",
        "val_loader = torch.utils.data.DataLoader(val_data, batch_size=4, shuffle=False, num_workers=4)\n",
        "test_loader = torch.utils.data.DataLoader(test_data, batch_size=4, shuffle=False, num_workers=4)\n",
        "\n",
        "param ={\n",
        "        'num_channels':1,\n",
        "        'num_filters':64,\n",
        "        'kernel_h':7,\n",
        "        'kernel_w':3,\n",
        "        'kernel_c': 1,\n",
        "        'stride_conv':1,\n",
        "        'pool':2,\n",
        "        'stride_pool':2,\n",
        "        'num_class':4\n",
        "    }\n",
        "\n",
        "exp_dir_name = 'Exp01'\n",
        "\n",
        "experiment = Experiment(\"9LRg8JI8I44sbVgkkIuUnTwXr\", \"ReLayNet\")\n",
        "relaynet_model = ReLayNet(param)\n",
        "solver = Solver()\n",
        "solver.train(experiment, relaynet_model, train_loader, val_loader, test_loader, exp_dir_name=exp_dir_name)"
      ],
      "execution_count": null,
      "outputs": []
    },
    {
      "cell_type": "code",
      "metadata": {
        "id": "oXJVNL0KkToy",
        "colab_type": "code",
        "colab": {}
      },
      "source": [
        "experiment.end()"
      ],
      "execution_count": null,
      "outputs": []
    },
    {
      "cell_type": "code",
      "metadata": {
        "id": "0zNiP7IJaDdF",
        "colab_type": "code",
        "colab": {}
      },
      "source": [
        "del relaynet_model"
      ],
      "execution_count": null,
      "outputs": []
    },
    {
      "cell_type": "markdown",
      "metadata": {
        "id": "i2X0H8qgk9hJ",
        "colab_type": "text"
      },
      "source": [
        "## Save the Model\n",
        "\n",
        "When you are satisfied with your training, you can save the model."
      ]
    },
    {
      "cell_type": "code",
      "metadata": {
        "id": "99iHjzW_k9hM",
        "colab_type": "code",
        "colab": {}
      },
      "source": [
        "relaynet_model.save(\"models/relaynet_model.model\")"
      ],
      "execution_count": null,
      "outputs": []
    },
    {
      "cell_type": "markdown",
      "metadata": {
        "id": "yegarL3Ok9hW",
        "colab_type": "text"
      },
      "source": [
        "# Deploy Model on Test Data"
      ]
    },
    {
      "cell_type": "code",
      "metadata": {
        "id": "my_-uw-Bk9hY",
        "colab_type": "code",
        "colab": {}
      },
      "source": [
        "SEG_LABELS_LIST = [\n",
        "    {\"id\": 0, \"name\": \"Vitreous\", \"rgb_values\": [0, 0, 0]},\n",
        "    {\"id\": 1, \"name\": \"Inner Plexiform Layer\", \"rgb_values\": [150, 0, 0]},\n",
        "    {\"id\": 2, \"name\": \"Inner Nuclear Layer\", \"rgb_values\": [70, 150, 0]},\n",
        "    {\"id\": 3, \"name\": \"Pigment Epithelial Detachment\", \"rgb_values\": [0, 0, 150]}];\n",
        "    \n",
        "def label_img_to_rgb(label_img):\n",
        "    label_img = np.squeeze(label_img)\n",
        "    labels = np.unique(label_img)\n",
        "    label_infos = [l for l in SEG_LABELS_LIST if l['id'] in labels]\n",
        "\n",
        "    label_img_rgb = np.array([label_img,\n",
        "                              label_img,\n",
        "                              label_img]).transpose(1,2,0)\n",
        "    for l in label_infos:\n",
        "        mask = label_img == l['id']\n",
        "        label_img_rgb[mask] = l['rgb_values']\n",
        "\n",
        "    return label_img_rgb.astype(np.uint8)"
      ],
      "execution_count": null,
      "outputs": []
    },
    {
      "cell_type": "code",
      "metadata": {
        "scrolled": false,
        "id": "ypeyQdYmk9hh",
        "colab_type": "code",
        "colab": {
          "base_uri": "https://localhost:8080/",
          "height": 992
        },
        "outputId": "15ecf61a-f9f8-477c-c60b-a54119b0b9a5"
      },
      "source": [
        "import matplotlib.pyplot as plt\n",
        "import torch.nn.functional as F\n",
        "\n",
        "test_loader = torch.utils.data.DataLoader(test_data, batch_size=4, shuffle=False, num_workers=4)\n",
        "relaynet_model =  torch.load(\"clweightsmodels/Exp01/relaynet_epoch26.model\")\n",
        "#relaynet_model =  torch.load(\"clnoweights/Exp01/relaynet_epoch15.model\")\n",
        "#relaynet_model =  torch.load(\"dicemodels/Exp01/relaynet_epoch18.model\")\n",
        "item = 7\n",
        "out = relaynet_model(Variable(torch.Tensor(test_data.__getitem__(item)[0:1]).cuda(),volatile=True))\n",
        "# out = F.softmax(out,dim=1)\n",
        "max_val, idx = torch.max(out,1)\n",
        "idx = idx.data.cpu().numpy()\n",
        "idx = label_img_to_rgb(idx)\n",
        "plt.imshow(idx)\n",
        "plt.show()\n",
        "\n",
        "#img_test = test_data.__getitem__(item)[0:1]\n",
        "#img_test = np.squeeze(img_test)\n",
        "#plt.imshow(img_test)\n",
        "#plt.show()\n",
        "\n",
        "img_test_mask = test_data.__getitem__(item)[1:2]\n",
        "img_test_mask = np.squeeze(img_test_mask)\n",
        "plt.imshow(img_test_mask)\n",
        "plt.show()"
      ],
      "execution_count": null,
      "outputs": [
        {
          "output_type": "stream",
          "text": [
            "/usr/local/lib/python3.6/dist-packages/ipykernel_launcher.py:9: UserWarning: volatile was removed and now has no effect. Use `with torch.no_grad():` instead.\n",
            "  if __name__ == '__main__':\n"
          ],
          "name": "stderr"
        },
        {
          "output_type": "display_data",
          "data": {
            "image/png": "[encoded data removed]",
            "text/plain": [
              "<Figure size 720x576 with 1 Axes>"
            ]
          },
          "metadata": {
            "tags": [],
            "needs_background": "light"
          }
        },
        {
          "output_type": "display_data",
          "data": {
            "image/png": "[encoded data removed]",
            "text/plain": [
              "<Figure size 720x576 with 1 Axes>"
            ]
          },
          "metadata": {
            "tags": [],
            "needs_background": "light"
          }
        }
      ]
    },
    {
      "cell_type": "code",
      "metadata": {
        "id": "J9jUdy3dk-et",
        "colab_type": "code",
        "colab": {
          "base_uri": "https://localhost:8080/",
          "height": 1000
        },
        "outputId": "d9d14ced-7ef8-4070-98ce-cff209f1bb9e"
      },
      "source": [
        "def per_class_dice(y_pred, y_true, num_class, list):\n",
        "    y_pred = y_pred.data.cpu().numpy()  # [batch_size, 1024, 512]\n",
        "    y_true = y_true.data.cpu().numpy()  # [batch_size, 1024, 512]\n",
        "    pom = []\n",
        "    avgdice = 0\n",
        "    for i in range(num_class):\n",
        "        inter = np.sum(y_pred[y_true == i] == i)\n",
        "        union = np.sum(y_pred[y_pred == i] == i) + np.sum(y_true[y_true == i] == i)\n",
        "        dice = 2 * inter / union\n",
        "        pom.append(dice)\n",
        "        avgdice += dice\n",
        "    list.append(pom)\n",
        "    return avgdice / num_class\n",
        "\n",
        "test_loader = torch.utils.data.DataLoader(test_data, batch_size=1, shuffle=False, num_workers=4)\n",
        "avg_dice = 0\n",
        "dice_class_history = []\n",
        "random = []\n",
        "for i_batch, sample_batched in enumerate(test_loader):\n",
        "    X = Variable(sample_batched[0].float())\n",
        "    y = Variable(sample_batched[1].float())\n",
        "    if relaynet_model.is_cuda:\n",
        "        X, y = X.cuda(), y.cuda()\n",
        "    output = relaynet_model(X)\n",
        "    _, val_preds = torch.max(output, dim=1)\n",
        "    print(i_batch, per_class_dice(val_preds, y, 4, random))\n",
        "    avg_dice += per_class_dice(val_preds, y, 4, dice_class_history)\n",
        "avg_dice_test = avg_dice / len(test_loader)\n",
        "avg_dice_per_class = [0, 0, 0, 0]\n",
        "for i in range(len(test_loader)):\n",
        "    for j in range(4):\n",
        "        avg_dice_per_class[j] += dice_class_history[i][j]\n",
        "avg_dice_0 = avg_dice_per_class[0] / len(test_loader)\n",
        "avg_dice_1 = avg_dice_per_class[1] / len(test_loader)\n",
        "avg_dice_2 = avg_dice_per_class[2] / len(test_loader)\n",
        "avg_dice_3 = avg_dice_per_class[3] / len(test_loader)\n",
        "\n",
        "print(\"Average dice: \" + str(avg_dice_test))\n",
        "print(\"Per class dice: \", end=\"\")\n",
        "print(str(avg_dice_0) + \" \" + str(avg_dice_1) + \" \" + str(avg_dice_2) + \" \" + str(avg_dice_3))                        "
      ],
      "execution_count": null,
      "outputs": [
        {
          "output_type": "stream",
          "text": [
            "0 0.9272681518754247\n",
            "1 0.9406090163602594\n",
            "2 0.8920207061252409\n",
            "3 0.8534022415383825\n",
            "4 0.9254510193721479\n",
            "5 0.95237249604988\n",
            "6 0.9395003918878374\n",
            "7 0.9582933302593781\n",
            "8 0.9343580910389907\n",
            "9 0.9572421808929993\n",
            "10 0.9250555823134866\n",
            "11 0.9524816064107947\n",
            "12 0.8928541845527833\n",
            "13 0.8915700927164373\n",
            "14 0.8882396092295871\n",
            "15 0.9157980092810645\n",
            "16 0.9154697828135161\n",
            "17 0.9494021276316742\n",
            "18 0.9474969011828617\n",
            "19 0.8920975675753778\n",
            "20 0.9310717324093067\n",
            "21 0.8896118729291924\n",
            "22 0.9245813493201978\n",
            "23 0.921943077364064\n",
            "24 0.8798024263927143\n",
            "25 0.9230969310550894\n",
            "26 0.9231193374264293\n",
            "27 0.8928781839560781\n",
            "28 0.928957049952501\n",
            "29 0.9393483790669663\n",
            "30 0.9104950702840039\n",
            "31 0.9459535216342916\n",
            "32 0.7901297076243181\n",
            "33 0.8438304893871865\n",
            "34 0.8348526758639334\n",
            "35 0.8110142083048013\n",
            "36 0.8315424347917613\n",
            "37 0.8356269578727011\n",
            "38 0.8394263334995805\n",
            "39 0.8304391621009833\n",
            "40 0.8656018531166415\n",
            "41 0.8485370888171575\n",
            "42 0.8210628078006464\n",
            "43 0.8194758677606665\n",
            "44 0.826743144016466\n",
            "45 0.8474291367784171\n",
            "46 0.8164578003451894\n",
            "47 0.8310737965998413\n",
            "48 0.858650844251705\n",
            "49 0.8345026903121382\n",
            "50 0.8337639982046572\n",
            "51 0.8052379608255377\n",
            "52 0.8074327278823691\n",
            "53 0.8166057389420173\n",
            "54 0.821522843039887\n",
            "55 0.832303417396561\n",
            "56 0.8229857919248393\n",
            "57 0.8226903042491455\n",
            "58 0.8063531817624994\n",
            "59 0.809088536557437\n",
            "60 0.8136463707242821\n",
            "Average dice: 0.8760634408467594\n",
            "Per class dice: 0.9862373682213275 0.961398042957845 0.9398271385821797 0.6167912136256858\n"
          ],
          "name": "stdout"
        }
      ]
    }
  ]
}